{
  "nbformat": 4,
  "nbformat_minor": 0,
  "metadata": {
    "colab": {
      "provenance": []
    },
    "kernelspec": {
      "name": "python3",
      "display_name": "Python 3"
    },
    "language_info": {
      "name": "python"
    }
  },
  "cells": [
    {
      "cell_type": "code",
      "execution_count": 15,
      "metadata": {
        "colab": {
          "base_uri": "https://localhost:8080/"
        },
        "collapsed": true,
        "id": "Wg-yEwhmxfWv",
        "outputId": "bad74ab3-defd-4878-a2b9-a9466cc698ea"
      },
      "outputs": [
        {
          "output_type": "stream",
          "name": "stdout",
          "text": [
            "Quantidade de dna A: 9709674\n",
            "Quantidade de dna G: 5421151\n",
            "Quantidade de dna C: 5435374\n",
            "Quantidade de dna T: 9697113\n",
            "\n",
            "Percentual de DNA A: 31.46%\n",
            "Percentual de DNA T: 31.42%\n",
            "Percentual de DNA G: 17.57%\n",
            "Percentual de DNA C: 17.61%\n"
          ]
        }
      ],
      "source": [
        "# encoding:utf-8\n",
        "\n",
        "def ler_fasta(arquivo):\n",
        "    sequencia = ''\n",
        "    lista = []\n",
        "    with open(arquivo, 'r') as fasta:\n",
        "            sequencia = ''\n",
        "            for linha in fasta:\n",
        "                if not linha.startswith('>'):\n",
        "                    sequencia += linha\n",
        "            lista.append(sequencia)\n",
        "\n",
        "    return lista\n",
        "\n",
        "# testando...\n",
        "lista = ler_fasta(\"sequence.fasta\")\n",
        "\n",
        "def contarA(dna):\n",
        "  return dna[0].count('A')\n",
        "def contarG(dna):\n",
        "  return dna[0].count('G')\n",
        "def contarC(dna):\n",
        "  return dna[0].count('C')\n",
        "def contarT(dna):\n",
        "  return dna[0].count('T')\n",
        "\n",
        "QuantidadeA = contarA(lista)\n",
        "QuantidadeG = contarG(lista)\n",
        "QuantidadeC = contarC(lista)\n",
        "QuantidadeT = contarT(lista)\n",
        "\n",
        "print(\"Quantidade de dna A:\", QuantidadeA)\n",
        "print(\"Quantidade de dna G:\", QuantidadeG)\n",
        "print(\"Quantidade de dna C:\", QuantidadeC)\n",
        "print(\"Quantidade de dna T:\", QuantidadeT)\n",
        "\n",
        "print('')\n",
        "quantidade_total = len(lista[0])\n",
        "\n",
        "percentual_a = (QuantidadeA / quantidade_total) * 100\n",
        "percentual_t = (QuantidadeT / quantidade_total) * 100\n",
        "percentual_g = (QuantidadeG / quantidade_total) * 100\n",
        "percentual_c = (QuantidadeC / quantidade_total) * 100\n",
        "\n",
        "# Exibir os percentuais\n",
        "print(f\"Percentual de DNA A: {percentual_a:.2f}%\")\n",
        "print(f\"Percentual de DNA T: {percentual_t:.2f}%\")\n",
        "print(f\"Percentual de DNA G: {percentual_g:.2f}%\")\n",
        "print(f\"Percentual de DNA C: {percentual_c:.2f}%\")"
      ]
    },
    {
      "cell_type": "code",
      "source": [
        "import pandas as pd\n",
        "import numpy as np\n",
        "#idades =[np.random.randint(0, 100)for _ in range(1000)]\n",
        "idades =[np.random.randint(0, 100)for _ in range(1000)]\n",
        "lista = pd.Series(idades)\n",
        "\n",
        "menoresde21 = lista[lista <= 21]\n",
        "maiores21 = lista[lista > 21]\n",
        "trocaIdade = lista.copy()\n",
        "mediaMaior = maiores21.mean()\n",
        "\n",
        "for i in range(1000):\n",
        "    if trocaIdade[i] < 21:\n",
        "        trocaIdade[i] = mediaMaior\n",
        "\n",
        "\n",
        "lista2 = pd.Series(trocaIdade)\n",
        "\n",
        "media = lista.mean()\n",
        "mediana = lista.median()\n",
        "moda = lista.mode()\n",
        "\n",
        "print(\"Média:\", media)\n",
        "print(\"Mediana:\", mediana)\n",
        "print(\"Moda:\", moda)\n",
        "\n",
        "\n",
        "\n",
        "print(\"\")\n",
        "print(\"lista de idades:\")\n",
        "print(lista)\n",
        "print(\"\")\n",
        "print(\"\")\n",
        "print(\"Media das idades maiores:\")\n",
        "print(mediaMaior)\n",
        "print(\"\")\n",
        "print(\"\")\n",
        "print(\"Troca de idades\")\n",
        "print(lista2)"
      ],
      "metadata": {
        "colab": {
          "base_uri": "https://localhost:8080/"
        },
        "id": "FRKREtanE1ni",
        "outputId": "73f3591e-5ad4-4a23-aecc-fecea7c9792b"
      },
      "execution_count": 60,
      "outputs": [
        {
          "output_type": "stream",
          "name": "stdout",
          "text": [
            "Média: 49.92\n",
            "Mediana: 50.0\n",
            "Moda: 0    67\n",
            "dtype: int64\n",
            "\n",
            "lista de idades:\n",
            "0      98\n",
            "1      15\n",
            "2      96\n",
            "3      41\n",
            "4      39\n",
            "       ..\n",
            "995    29\n",
            "996     1\n",
            "997    22\n",
            "998    33\n",
            "999    71\n",
            "Length: 1000, dtype: int64\n",
            "\n",
            "\n",
            "Media das idades maiores:\n",
            "60.30555555555556\n",
            "\n",
            "\n",
            "Troca de idades\n",
            "0      98.000000\n",
            "1      60.305556\n",
            "2      96.000000\n",
            "3      41.000000\n",
            "4      39.000000\n",
            "         ...    \n",
            "995    29.000000\n",
            "996    60.305556\n",
            "997    22.000000\n",
            "998    33.000000\n",
            "999    71.000000\n",
            "Length: 1000, dtype: float64\n"
          ]
        },
        {
          "output_type": "stream",
          "name": "stderr",
          "text": [
            "<ipython-input-60-9930fdbfef5c>:14: FutureWarning: Setting an item of incompatible dtype is deprecated and will raise in a future error of pandas. Value '60.30555555555556' has dtype incompatible with int64, please explicitly cast to a compatible dtype first.\n",
            "  trocaIdade[i] = mediaMaior\n"
          ]
        }
      ]
    }
  ]
}